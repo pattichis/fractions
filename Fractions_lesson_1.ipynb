{
  "nbformat": 4,
  "nbformat_minor": 0,
  "metadata": {
    "colab": {
      "provenance": [],
      "include_colab_link": true
    },
    "kernelspec": {
      "name": "python3",
      "display_name": "Python 3"
    },
    "language_info": {
      "name": "python"
    }
  },
  "cells": [
    {
      "cell_type": "markdown",
      "metadata": {
        "id": "view-in-github",
        "colab_type": "text"
      },
      "source": [
        "<a href=\"https://colab.research.google.com/github/pattichis/fractions/blob/main/Fractions_lesson_1.ipynb\" target=\"_parent\"><img src=\"https://colab.research.google.com/assets/colab-badge.svg\" alt=\"Open In Colab\"/></a>"
      ]
    },
    {
      "cell_type": "markdown",
      "source": [
        "# Introduction to Variables\n",
        "\n",
        "Run the following code by clicking on the play button on the left.\n",
        "\n",
        "What can you see?\n",
        "\n",
        "Comments are used for making notes:\n",
        "\n",
        "```\n",
        "# After this special character, computer ignores the text.\n",
        "```\n",
        "\n",
        "A variable is created using the following line:\n",
        "```\n",
        "x = 3 \n",
        "```\n",
        "Thus, the variable <tt>x</tt> stores the value 3.</br>\n",
        "<b>Whenever we see <tt>x</tt>, remember that <tt>x</tt> holds the value of 3.</b>\n",
        "\n",
        "We can see what <tt>x</tt> holds using:\n",
        "```\n",
        "print(x)\n",
        "```\n",
        "\n",
        "In programming, we say that <tt>print()</tt> is a\n",
        " <b>function</b>.\n",
        "\n",
        "We say that the variable <tt>x</tt> is an argument to \n",
        "   <tt>print()</tt>.\n",
        "\n",
        "We can change what we print by changing the variable <tt>a</tt>.   \n",
        "\n",
        "Carefully review the code line-by-line to understand how it works.\n",
        "\n",
        "## Assignment: understanding comments and variables\n",
        "\n",
        "Does the output change if you change a comment?\n",
        "\n",
        "Can you change the code so that it will print 5?"
      ],
      "metadata": {
        "id": "rbk-KSk6jo4D"
      }
    },
    {
      "cell_type": "code",
      "source": [
        "# Hello. This line is for humans to read.\n",
        "# It is not to be executed.\n",
        "# When you first type #, we have a comment. Typing here does not affect anything\n",
        "# Comments are used to explain programs to humans.\n",
        "# Computers do not execute the comments.\n",
        "\n",
        "# Computers use variables to store information.\n",
        "# In the following line, we store the number 3 in the variable \"a\"\n",
        "x = 1\n",
        "y = x+5+x*3\n",
        "\n",
        "# We place \"x\" inside parenthesis \"(x)\" to apply the print() function:\n",
        "print(y)"
      ],
      "metadata": {
        "colab": {
          "base_uri": "https://localhost:8080/"
        },
        "id": "fDX4Rl0PjqJQ",
        "outputId": "017f611c-df58-4e07-f6da-33b414cc8e51"
      },
      "execution_count": null,
      "outputs": [
        {
          "output_type": "stream",
          "name": "stdout",
          "text": [
            "9\n"
          ]
        }
      ]
    },
    {
      "cell_type": "markdown",
      "source": [
        "# Strings\n",
        "\n",
        "You can use variables to store characters. \n",
        "\n",
        "A collection of characters forms a string.\n",
        "\n",
        "So the following code stores your name in a variable:\n",
        "\n",
        "\n",
        "```\n",
        "MyString = \"A short phrase\"\n",
        "```\n",
        "From now on, MyString holds \"A short phrase\".\n",
        "\n",
        "\n",
        "Run the following code by clicking on the play button on the left.\n",
        "\n",
        "What can you see?\n",
        "\n",
        "Carefully read the code line-by-line to understand how it works.\n",
        "\n",
        "## Assignment: understanding strings\n",
        "\n",
        "Can you change the code so that it will print your name?\n"
      ],
      "metadata": {
        "id": "Rtuf2z61h0G_"
      }
    },
    {
      "cell_type": "code",
      "source": [
        "# STRINGS\n",
        "# Computers understand strings.\n",
        "# The following line creates a string and stores it in the variable MyString\n",
        "MyString = \"Hello World!\"\n",
        "\n",
        "# PRINTING\n",
        "# You can now see the string in a:\n",
        "print(MyString)"
      ],
      "metadata": {
        "colab": {
          "base_uri": "https://localhost:8080/"
        },
        "id": "hfSVgnVKd6SO",
        "outputId": "d13ea592-299f-4ab9-93fb-4b78930714d8"
      },
      "execution_count": null,
      "outputs": [
        {
          "output_type": "stream",
          "name": "stdout",
          "text": [
            "Hello World!\n"
          ]
        }
      ]
    },
    {
      "cell_type": "markdown",
      "source": [
        "# Concatenating Strings = combining strings together\n",
        "\n",
        "Run the following code by clicking on the play button on the left.\n",
        "\n",
        "What can you see?\n",
        "\n",
        "Carefully read the code line-by-line to understand how it works.\n",
        "\n",
        "What does it mean to use + with two strings?\n",
        "\n",
        "## Assignment: combining strings\n",
        "\n",
        "Can you change the code so that it prints \"Hello Marios\"?\n",
        "\n",
        "Can you change the code so that it prints \"Hello your-name\"?"
      ],
      "metadata": {
        "id": "o9vq_aUxidy6"
      }
    },
    {
      "cell_type": "code",
      "source": [
        "MyName = \"Emily\"                 # Store \"Marios\" in MyName\n",
        "String = \"My name is \" + MyName   # Create a string by concatenating\n",
        "print(String)                     # Print the string"
      ],
      "metadata": {
        "colab": {
          "base_uri": "https://localhost:8080/"
        },
        "id": "w8yTuP4HdEHD",
        "outputId": "c0fd4dd1-af7a-4a05-ce97-ba2a8963888b"
      },
      "execution_count": null,
      "outputs": [
        {
          "output_type": "stream",
          "name": "stdout",
          "text": [
            "My name is Emily\n"
          ]
        }
      ]
    },
    {
      "cell_type": "markdown",
      "source": [
        "# Object oriented programming using fractions\n",
        "\n",
        "Objects are special programming constructs that can allow complex operations. \n",
        "\n",
        "We can load fraction objects using:\n",
        "```\n",
        "from fractions import Fraction\n",
        "```\n",
        "This code brings <tt>fraction</tt> objects from the <tt>fractions</tt> library of Python code. Once this code is executed, we do not need to repeat it.\n",
        "\n",
        "We can now create simple fractions:\n",
        "```\n",
        "a = Fraction(1, 2)\n",
        "```\n",
        "Based on this code, a=1/2.\n",
        "\n",
        "We can do simple Math with fractions:\n",
        "```\n",
        "b = a + a\n",
        "```\n",
        "This line will add 1/2 + 1/2.\n",
        "\n",
        "We can print the result:\n",
        "```\n",
        "print(b)\n",
        "```"
      ],
      "metadata": {
        "id": "eL2wg2O8uqp8"
      }
    },
    {
      "cell_type": "code",
      "source": [
        "# Import fraction from the fractions library:\n",
        "from fractions import Fraction\n",
        "\n",
        "# Create fractions 1/2\n",
        "a = Fraction(1, 2)\n",
        "\n",
        "# We can add the fractions and see the result:\n",
        "b = a+a\n",
        "print(b)"
      ],
      "metadata": {
        "colab": {
          "base_uri": "https://localhost:8080/"
        },
        "id": "x88_QGSCgATE",
        "outputId": "71e5528c-4d27-467f-f0c9-7cedbc09c7a6"
      },
      "execution_count": null,
      "outputs": [
        {
          "output_type": "stream",
          "name": "stdout",
          "text": [
            "1\n"
          ]
        }
      ]
    },
    {
      "cell_type": "markdown",
      "source": [
        "# Complex Fraction Operations\n",
        "We can perform complex operations as given below:\n",
        "```\n",
        "# This is formatted as code\n",
        "a = Fraction(1,2)  # a = 1/2\n",
        "b = Fraction(1,3)  # b = 1/3\n",
        "c = Fraction(1,9)\n",
        "d = 3*(a-b)/c      # complex expression\n",
        "print(d)\n",
        "```\n",
        "\n",
        "\n"
      ],
      "metadata": {
        "id": "NwMpFCq4uxlu"
      }
    },
    {
      "cell_type": "code",
      "source": [
        "a = Fraction(1,2)  # a = 1/2\n",
        "b = Fraction(1,3)  # b = 1/3\n",
        "c = Fraction(1,9)\n",
        "d = 3*(a-b)/c      # complex expression\n",
        "print(d)"
      ],
      "metadata": {
        "colab": {
          "base_uri": "https://localhost:8080/"
        },
        "id": "2oKEjJP9aeg_",
        "outputId": "2678fb6f-d251-4981-f83f-3e4a66f763e8"
      },
      "execution_count": null,
      "outputs": [
        {
          "output_type": "stream",
          "name": "stdout",
          "text": [
            "9/2\n"
          ]
        }
      ]
    }
  ]
}