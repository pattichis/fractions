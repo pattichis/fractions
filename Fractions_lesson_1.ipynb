{
  "nbformat": 4,
  "nbformat_minor": 0,
  "metadata": {
    "colab": {
      "provenance": [],
      "include_colab_link": true
    },
    "kernelspec": {
      "name": "python3",
      "display_name": "Python 3"
    },
    "language_info": {
      "name": "python"
    }
  },
  "cells": [
    {
      "cell_type": "markdown",
      "metadata": {
        "id": "view-in-github",
        "colab_type": "text"
      },
      "source": [
        "<a href=\"https://colab.research.google.com/github/pattichis/fractions/blob/main/Fractions_lesson_1.ipynb\" target=\"_parent\"><img src=\"https://colab.research.google.com/assets/colab-badge.svg\" alt=\"Open In Colab\"/></a>"
      ]
    },
    {
      "cell_type": "markdown",
      "source": [
        "# Introduction to Variables\n",
        "\n",
        "Run the following code by clicking on the play button on the left.\n",
        "\n",
        "What can you see?\n",
        "\n",
        "Comments are used for making notes:\n",
        "\n",
        "```\n",
        "# After this special character, computer ignores the text.\n",
        "```\n",
        "\n",
        "A variable is created using the following line:\n",
        "```\n",
        "x = 3 \n",
        "```\n",
        "Thus, the variable <tt>x</tt> stores the value 3.</br>\n",
        "<b>Whenever we see <tt>x</tt>, remember that <tt>x</tt> holds the value of 3.</b>\n",
        "\n",
        "We can see what <tt>x</tt> holds using:\n",
        "```\n",
        "print(x)\n",
        "```\n",
        "\n",
        "In programming, we say that <tt>print()</tt> is a\n",
        " <b>function</b>.\n",
        "\n",
        "We say that the variable <tt>x</tt> is an argument to \n",
        "   <tt>print()</tt>.\n",
        "\n",
        "We can change what we print by changing the variable <tt>a</tt>.   \n",
        "\n",
        "Carefully review the code line-by-line to understand how it works.\n",
        "\n",
        "## Assignment: understanding comments and variables\n",
        "\n",
        "Does the output change if you change a comment?\n",
        "\n",
        "Can you change the code so that it will print 5?"
      ],
      "metadata": {
        "id": "rbk-KSk6jo4D"
      }
    },
    {
      "cell_type": "code",
      "source": [
        "# Hello. This line is for humans to read.\n",
        "# It is not to be executed.\n",
        "# When you first type #, we have a comment. Typing here does not affect anything\n",
        "# Comments are used to explain programs to humans.\n",
        "# Computers do not execute the comments.\n",
        "\n",
        "# Computers use variables to store information.\n",
        "# In the following line, we store the number 3 in the variable \"x\"\n",
        "\n",
        "# What do you understand by saying that \"x\" is a variable?\n",
        "# Run this cell. Try a different value for \"x\".\n",
        "\n",
        "# Create another variable and experiment with different values.\n",
        "\n",
        "x = 3 \n",
        "\n",
        "# print the value of x\n",
        "print(x)\n"
      ],
      "metadata": {
        "colab": {
          "base_uri": "https://localhost:8080/"
        },
        "id": "fDX4Rl0PjqJQ",
        "outputId": "4843f0aa-2dda-464a-8091-eb14c413d5e6"
      },
      "execution_count": null,
      "outputs": [
        {
          "output_type": "stream",
          "name": "stdout",
          "text": [
            "3\n"
          ]
        }
      ]
    },
    {
      "cell_type": "code",
      "source": [
        "# Consider x+3\n",
        "# Predict the result for x=3,4,5,67\n",
        "# Take turns and try a different number each time\n",
        "\n",
        "x = 1\n",
        "print(x+3)"
      ],
      "metadata": {
        "id": "-EYY1rJ1no8J"
      },
      "execution_count": null,
      "outputs": []
    },
    {
      "cell_type": "code",
      "source": [
        "# Consider 3*x\n",
        "# Predict the result for x=3,4,5,67\n",
        "# Take turns and try a different number each time\n",
        "\n",
        "x = 1\n",
        "print(3*x)"
      ],
      "metadata": {
        "id": "Ur9rNVw0oFjr"
      },
      "execution_count": null,
      "outputs": []
    },
    {
      "cell_type": "markdown",
      "source": [
        "# Strings\n",
        "\n",
        "You can use variables to store characters. \n",
        "\n",
        "A collection of characters forms a string.\n",
        "\n",
        "So the following code stores your name in a variable:\n",
        "\n",
        "\n",
        "```\n",
        "MyString = \"A short phrase\"\n",
        "```\n",
        "From now on, MyString holds \"A short phrase\".\n",
        "\n",
        "\n",
        "Run the following code by clicking on the play button on the left.\n",
        "\n",
        "What can you see?\n",
        "\n",
        "Carefully read the code line-by-line to understand how it works.\n",
        "\n",
        "## Assignment: understanding strings\n",
        "\n",
        "Can you change the code so that it will print your name?\n"
      ],
      "metadata": {
        "id": "Rtuf2z61h0G_"
      }
    },
    {
      "cell_type": "code",
      "source": [
        "# STRINGS\n",
        "# Computers understand strings.\n",
        "# The following line creates a string and stores it in the variable MyString\n",
        "MyString = \"Hello World!\"\n",
        "\n",
        "# PRINTING\n",
        "# You can now see the string in a:\n",
        "print(MyString)"
      ],
      "metadata": {
        "colab": {
          "base_uri": "https://localhost:8080/"
        },
        "id": "hfSVgnVKd6SO",
        "outputId": "9a98a881-1427-4f0e-ca3e-dd208abda443"
      },
      "execution_count": null,
      "outputs": [
        {
          "output_type": "stream",
          "name": "stdout",
          "text": [
            "Hello World!\n"
          ]
        }
      ]
    },
    {
      "cell_type": "markdown",
      "source": [
        "# Variables for linear equations"
      ],
      "metadata": {
        "id": "TNxqnBTNG2s4"
      }
    },
    {
      "cell_type": "code",
      "source": [
        "# Consider x+5\n",
        "# Make total = 10 by changing x\n",
        "# Try x = 0, 5, 2\n",
        "\n",
        "x = 2\n",
        "total = x + 5\n",
        "print(\"x = \", x)\n",
        "print(\"total = x + 5\")\n",
        "print(total, \"=\", x, \" + 5\")\n",
        "print(\"Match both sides: total = \", total, \" = 10 \")\n"
      ],
      "metadata": {
        "colab": {
          "base_uri": "https://localhost:8080/"
        },
        "id": "nh0H6mffnW2m",
        "outputId": "760f5d93-2978-4cb4-ff2b-7ce78a713482"
      },
      "execution_count": null,
      "outputs": [
        {
          "output_type": "stream",
          "name": "stdout",
          "text": [
            "x =  2\n",
            "total = x + 5\n",
            "7 = 2  + 5\n",
            "Match both sides: total =  7  = 10 \n"
          ]
        }
      ]
    },
    {
      "cell_type": "code",
      "source": [
        "# Change the code to match x+6=12\n",
        "# You will need to change the strings\n",
        "# Try x = 2, 4, 6\n",
        "\n",
        "x = 2\n",
        "total = x + 5\n",
        "print(\"x = \", x)\n",
        "print(\"total = x + 5\")\n",
        "print(total, \"=\", x, \" + 5\")\n",
        "print(\"Match both sides: total = \", total, \" = 10 \")\n"
      ],
      "metadata": {
        "id": "8ofZRDrSs2Nb"
      },
      "execution_count": null,
      "outputs": []
    },
    {
      "cell_type": "code",
      "source": [
        "# Consider 2*x\n",
        "# Make product = 10 by changing x\n",
        "# Try x = 8, 12, 5, 20\n",
        "\n",
        "x = 2\n",
        "product = 2*x \n",
        "print(\"x = \", x)\n",
        "print(\"product = 2*x\")\n",
        "print(product, \"= 2 *\", x)\n",
        "print(\"Match both sides: product = \", product, \" = 10 \")\n"
      ],
      "metadata": {
        "colab": {
          "base_uri": "https://localhost:8080/"
        },
        "id": "kKIhCrMTt7lG",
        "outputId": "93b4f758-126a-40f4-851e-71c4db078498"
      },
      "execution_count": null,
      "outputs": [
        {
          "output_type": "stream",
          "name": "stdout",
          "text": [
            "x =  2\n",
            "product = 2*x\n",
            "4 = 2 * 2\n",
            "Match both sides: product =  4  = 10 \n"
          ]
        }
      ]
    },
    {
      "cell_type": "markdown",
      "source": [
        "# Concatenating Strings = combining strings together\n",
        "\n",
        "Run the following code by clicking on the play button on the left.\n",
        "\n",
        "What can you see?\n",
        "\n",
        "Carefully read the code line-by-line to understand how it works.\n",
        "\n",
        "What does it mean to use + with two strings?\n",
        "\n",
        "## Assignment: combining strings\n",
        "\n",
        "Can you change the code so that it prints \"Hello Marios\"?\n",
        "\n",
        "Can you change the code so that it prints \"Hello your-name\"?"
      ],
      "metadata": {
        "id": "o9vq_aUxidy6"
      }
    },
    {
      "cell_type": "code",
      "source": [
        "MyName = \"Emily\"                 # Store \"Marios\" in MyName\n",
        "String = \"My name is \" + MyName   # Create a string by concatenating\n",
        "print(String)                     # Print the string"
      ],
      "metadata": {
        "colab": {
          "base_uri": "https://localhost:8080/"
        },
        "id": "w8yTuP4HdEHD",
        "outputId": "c0fd4dd1-af7a-4a05-ce97-ba2a8963888b"
      },
      "execution_count": null,
      "outputs": [
        {
          "output_type": "stream",
          "name": "stdout",
          "text": [
            "My name is Emily\n"
          ]
        }
      ]
    },
    {
      "cell_type": "markdown",
      "source": [
        "# Object oriented programming using fractions\n",
        "\n",
        "Objects are special programming constructs that can allow complex operations. \n",
        "\n",
        "We can load fraction objects using:\n",
        "```\n",
        "from fractions import Fraction\n",
        "```\n",
        "This code brings <tt>fraction</tt> objects from the <tt>fractions</tt> library of Python code. Once this code is executed, we do not need to repeat it.\n",
        "\n",
        "We can now create simple fractions:\n",
        "```\n",
        "a = Fraction(1, 2)\n",
        "```\n",
        "Based on this code, a=1/2.\n",
        "\n",
        "We can do simple Math with fractions:\n",
        "```\n",
        "b = a + a\n",
        "```\n",
        "This line will add 1/2 + 1/2.\n",
        "\n",
        "We can print the result:\n",
        "```\n",
        "print(b)\n",
        "```"
      ],
      "metadata": {
        "id": "eL2wg2O8uqp8"
      }
    },
    {
      "cell_type": "code",
      "source": [
        "# Import fraction from the fractions library:\n",
        "from fractions import Fraction\n",
        "\n",
        "# Create fractions 1/2\n",
        "a = Fraction(1, 2)\n",
        "\n",
        "# We can add the fractions and see the result:\n",
        "b = a+a\n",
        "print(b)"
      ],
      "metadata": {
        "colab": {
          "base_uri": "https://localhost:8080/"
        },
        "id": "x88_QGSCgATE",
        "outputId": "b25d15b2-b291-48e5-f01a-29f5703d2fb4"
      },
      "execution_count": null,
      "outputs": [
        {
          "output_type": "stream",
          "name": "stdout",
          "text": [
            "1\n"
          ]
        }
      ]
    },
    {
      "cell_type": "markdown",
      "source": [
        "# Complex Fraction Operations\n",
        "We can perform complex operations as given below:\n",
        "```\n",
        "# This is formatted as code\n",
        "a = Fraction(1,2)  # a = 1/2\n",
        "b = Fraction(1,3)  # b = 1/3\n",
        "c = Fraction(1,9)\n",
        "d = 3*(a-b)/c      # complex expression\n",
        "print(d)\n",
        "```\n",
        "\n",
        "\n"
      ],
      "metadata": {
        "id": "NwMpFCq4uxlu"
      }
    },
    {
      "cell_type": "code",
      "source": [
        "a = Fraction(1,2)  # a = 1/2\n",
        "b = Fraction(1,3)  # b = 1/3\n",
        "c = Fraction(1,9)\n",
        "d = 3*(a-b)/c      # complex expression\n",
        "print(d)"
      ],
      "metadata": {
        "colab": {
          "base_uri": "https://localhost:8080/"
        },
        "id": "2oKEjJP9aeg_",
        "outputId": "2678fb6f-d251-4981-f83f-3e4a66f763e8"
      },
      "execution_count": null,
      "outputs": [
        {
          "output_type": "stream",
          "name": "stdout",
          "text": [
            "9/2\n"
          ]
        }
      ]
    }
  ]
}