{
  "nbformat": 4,
  "nbformat_minor": 0,
  "metadata": {
    "colab": {
      "provenance": [],
      "include_colab_link": true
    },
    "kernelspec": {
      "name": "python3",
      "display_name": "Python 3"
    },
    "language_info": {
      "name": "python"
    }
  },
  "cells": [
    {
      "cell_type": "markdown",
      "metadata": {
        "id": "view-in-github",
        "colab_type": "text"
      },
      "source": [
        "<a href=\"https://colab.research.google.com/github/pattichis/fractions/blob/main/Fractions_lesson_2a.ipynb\" target=\"_parent\"><img src=\"https://colab.research.google.com/assets/colab-badge.svg\" alt=\"Open In Colab\"/></a>"
      ]
    },
    {
      "cell_type": "markdown",
      "source": [
        "# Initialization code: get files from the internet\n",
        "In oder to start working with more sophisticated code, we need to download some additional files from the internet.\n",
        "\n",
        "We get the files using <tt>wget</tt> followed by the website name:\n",
        "```\n",
        "!wget website_name\n",
        "```\n",
        "Note that we also have <tt>!</tt> before <tt>wget</tt>.\n",
        "The <tt>!</tt> tells Google Colab to execute this outside the browser. However, you do not need to worry about this.\n",
        "\n",
        "We download the AOLME library and a little picture using:\n",
        "```\n",
        "!wget https://raw.githubusercontent.com/ivpcl/REVISION-3-Level-1-2019-English/main/Level1-Projects/AOLME_Fraction_v2.py\n",
        "!wget https://raw.githubusercontent.com/ivpcl/REVISION-3-Level-1-2019-English/main/Level1-Projects/Bob.jpg\n",
        "```\n",
        "\n",
        "We then get the <tt>FrV</tt> fraction library from <tt>AOLME_Fraction_v2.py</tt> using:\n",
        "```\n",
        "from AOLME_Fraction_v2 import FrV\n",
        "```\n",
        "Run the code below and see the process of downloading the files from the internet."
      ],
      "metadata": {
        "id": "7HaYwvU1QEK0"
      }
    },
    {
      "cell_type": "code",
      "execution_count": null,
      "metadata": {
        "id": "1VlugE6gFsJk",
        "colab": {
          "base_uri": "https://localhost:8080/"
        },
        "outputId": "ea5ad23d-4db4-4395-8a14-131ab11777c5"
      },
      "outputs": [
        {
          "output_type": "stream",
          "name": "stdout",
          "text": [
            "--2022-12-01 16:21:30--  https://raw.githubusercontent.com/ivpcl/REVISION-3-Level-1-2019-English/main/Level1-Projects/AOLME_Fraction_v2.py\n",
            "Resolving raw.githubusercontent.com (raw.githubusercontent.com)... 185.199.108.133, 185.199.109.133, 185.199.110.133, ...\n",
            "Connecting to raw.githubusercontent.com (raw.githubusercontent.com)|185.199.108.133|:443... connected.\n",
            "HTTP request sent, awaiting response... 200 OK\n",
            "Length: 47712 (47K) [text/plain]\n",
            "Saving to: ‘AOLME_Fraction_v2.py.1’\n",
            "\n",
            "\rAOLME_Fraction_v2.p   0%[                    ]       0  --.-KB/s               \rAOLME_Fraction_v2.p 100%[===================>]  46.59K  --.-KB/s    in 0.004s  \n",
            "\n",
            "2022-12-01 16:21:30 (12.8 MB/s) - ‘AOLME_Fraction_v2.py.1’ saved [47712/47712]\n",
            "\n",
            "--2022-12-01 16:21:30--  https://raw.githubusercontent.com/ivpcl/REVISION-3-Level-1-2019-English/main/Level1-Projects/Bob.jpg\n",
            "Resolving raw.githubusercontent.com (raw.githubusercontent.com)... 185.199.108.133, 185.199.109.133, 185.199.110.133, ...\n",
            "Connecting to raw.githubusercontent.com (raw.githubusercontent.com)|185.199.108.133|:443... connected.\n",
            "HTTP request sent, awaiting response... 200 OK\n",
            "Length: 37538 (37K) [image/jpeg]\n",
            "Saving to: ‘Bob.jpg.1’\n",
            "\n",
            "Bob.jpg.1           100%[===================>]  36.66K  --.-KB/s    in 0.001s  \n",
            "\n",
            "2022-12-01 16:21:30 (33.8 MB/s) - ‘Bob.jpg.1’ saved [37538/37538]\n",
            "\n"
          ]
        }
      ],
      "source": [
        "!wget https://raw.githubusercontent.com/ivpcl/REVISION-3-Level-1-2019-English/main/Level1-Projects/AOLME_Fraction_v2.py\n",
        "!wget https://raw.githubusercontent.com/ivpcl/REVISION-3-Level-1-2019-English/main/Level1-Projects/Bob.jpg\n",
        "from AOLME_Fraction_v2 import FrV"
      ]
    },
    {
      "cell_type": "markdown",
      "source": [
        "# Representing fractions using pictures\n",
        "We can represent fractions using pictures.\n",
        "\n",
        "We begin with creating a new object using:\n",
        "```\n",
        "frac = FrV()\n",
        "```\n",
        "This code creates an <b>object</b> <tt>frac</tt> that knows how to represent fractions using pictures. Note that we say that <tt>frac</tt> is an <b>object</b>.\n",
        "\n",
        "Now that <tt>frac</tt> has been created, we can apply functions to make pictures. \n",
        "\n",
        "We can apply functions to <tt>frac</tt> using a period after the variable <tt>frac.FunctionName()</tt>.\n",
        "\n",
        "<tt>frac.AddFrac()</tt> refers to the function <tt>AddFrac()</tt> applied to <tt>frac</tt>. The function <tt>AddFrac()</tt> is called a <b>method</b> because it is associated with an <b>object</b>.\n",
        "\n",
        "For example, we can create a picture with a comment as given below:\n",
        "```\n",
        "c1    = \"Picture representing 1/3\"\n",
        "frac1 = frac.AddFrac(1, 3, comment=c1)\n",
        "```\n",
        "Here, c1 holds the string comment.\n",
        "<tt>frac1 = frac.AddFrac(1, 3, comment=c1)</tt> creates a picture where:\n",
        "*  1 is the numerator\n",
        "*  3 is the denominator\n",
        "*  <tt>comment=c1</tt> assigns a comment to the picture.\n",
        "*  <tt>frac1</tt> stores the final picture\n",
        "\n",
        "Run the code below to see how it works."
      ],
      "metadata": {
        "id": "uiPjBc2of0tN"
      }
    },
    {
      "cell_type": "code",
      "source": [
        "# Create an image of a fraction\n",
        "frac = FrV()\n",
        "\n",
        "# Create a string of the name of the fraction.\n",
        "c1 = \"Representing 1/3 as a picture\"\n",
        "\n",
        "# Create a picture of the fraction.\n",
        "frac1 = frac.AddFrac(1, 3, comment=c1)"
      ],
      "metadata": {
        "colab": {
          "base_uri": "https://localhost:8080/",
          "height": 99
        },
        "id": "x88_QGSCgATE",
        "outputId": "b3ed8153-cf5e-4b47-90c1-884ea1068483"
      },
      "execution_count": null,
      "outputs": [
        {
          "output_type": "display_data",
          "data": {
            "text/plain": [
              "<Figure size 432x288 with 1 Axes>"
            ],
            "image/png": "[encoded data removed]"
          },
          "metadata": {
            "needs_background": "light"
          }
        }
      ]
    },
    {
      "cell_type": "markdown",
      "source": [
        "# Multiple fractions using pictures\n",
        "We can create as many fractions as we want.\n",
        "\n",
        "They will appear below each other.\n",
        "\n",
        "The following code represents 1/3, 2/3, 3/3:\n",
        "\n",
        "```\n",
        "f1 = frac.AddFrac(1, 3, comment=\"1/3\")\n",
        "f2 = frac.AddFrac(2, 3, comment=\"2/3\")\n",
        "f3 = frac.AddFrac(3, 3, comment=\"3/3\")\n",
        "```\n",
        "\n",
        "What do you notice?\n",
        "\n",
        "What do you think the red shaded represents?\n",
        "\n",
        "We can also represent fractions that are higher than 1 by using a numerator that is larger than the denominator. For example:\n",
        "\n",
        "```\n",
        "f4 = frac.AddFrac(5, 3, comment=\"5/3\")\n",
        "```\n",
        "\n",
        "Run the code below to see how it works.\n"
      ],
      "metadata": {
        "id": "4V2fM0SNrrAZ"
      }
    },
    {
      "cell_type": "code",
      "source": [
        "f1 = frac.AddFrac(1, 3, comment=\"1/3\")\n",
        "f2 = frac.AddFrac(2, 3, comment=\"2/3\")\n",
        "f3 = frac.AddFrac(3, 3, comment=\"3/3\")\n",
        "\n",
        "# Fractions above 1\n",
        "f4 = frac.AddFrac(5, 3, comment=\"5/3\")"
      ],
      "metadata": {
        "colab": {
          "base_uri": "https://localhost:8080/",
          "height": 379
        },
        "id": "mEdUsW2NtYH3",
        "outputId": "d6d59a51-3243-42e9-ba5c-47ff3abf4212"
      },
      "execution_count": null,
      "outputs": [
        {
          "output_type": "display_data",
          "data": {
            "text/plain": [
              "<Figure size 432x288 with 1 Axes>"
            ],
            "image/png": "[encoded data removed]"
          },
          "metadata": {
            "needs_background": "light"
          }
        },
        {
          "output_type": "display_data",
          "data": {
            "text/plain": [
              "<Figure size 432x288 with 1 Axes>"
            ],
            "image/png": "[encoded data removed]"
          },
          "metadata": {
            "needs_background": "light"
          }
        },
        {
          "output_type": "display_data",
          "data": {
            "text/plain": [
              "<Figure size 432x288 with 1 Axes>"
            ],
            "image/png": "[encoded data removed]"
          },
          "metadata": {
            "needs_background": "light"
          }
        },
        {
          "output_type": "display_data",
          "data": {
            "text/plain": [
              "<Figure size 432x288 with 1 Axes>"
            ],
            "image/png": "[encoded data removed]"
          },
          "metadata": {
            "needs_background": "light"
          }
        }
      ]
    }
  ]
}